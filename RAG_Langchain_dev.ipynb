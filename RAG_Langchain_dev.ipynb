{
 "cells": [
  {
   "cell_type": "markdown",
   "metadata": {},
   "source": [
    "#### RAG (Retrieval Augmented Generation with LangChain) \n",
    "This component is for testing the rag with Langchain on a pdf document.\n"
   ]
  },
  {
   "cell_type": "code",
   "execution_count": null,
   "metadata": {},
   "outputs": [],
   "source": [
    "from dotenv import load_dotenv\n",
    "import os\n",
    "from langchain_google_vertexai import VertexAIEmbeddings\n",
    "from google.oauth2 import service_account\n",
    "import json\n",
    "from langchain_google_genai import ChatGoogleGenerativeAI\n",
    "from langchain_core.vectorstores import InMemoryVectorStore\n",
    "load_dotenv()\n",
    "\n",
    "\n",
    "#VertexAI\n",
    "GCP_PROJECT_ID = os.getenv(\"GCP_PROJECT_ID\")\n",
    "GCP_REGION = os.getenv(\"GCP_REGION\")\n",
    "GCP_CREDENTIALS_JSON = os.environ.get(\"GCP_CREDENTIALS_JSON\")\n",
    "credentials= service_account.Credentials.from_service_account_info(json.loads(GCP_CREDENTIALS_JSON))\n",
    "scoped_creds = credentials.with_scopes([\"https://www.googleapis.com/auth/cloud-platform\"])\n",
    "GEMINI_API_KEY = os.getenv(\"GOOGLE_API_KEY\")\n",
    "\n",
    "llm = ChatGoogleGenerativeAI(\n",
    "    model=\"gemini-2.0-flash-exp\",\n",
    "    google_api_key = GEMINI_API_KEY\n",
    ")\n",
    "\n",
    "embeddings = VertexAIEmbeddings(\n",
    "    model=\"text-embedding-004\",\n",
    "    project=GCP_PROJECT_ID,\n",
    "    location=GCP_REGION,\n",
    "    credentials=scoped_creds\n",
    "    )\n"
   ]
  },
  {
   "cell_type": "code",
   "execution_count": 8,
   "metadata": {},
   "outputs": [],
   "source": [
    "from pathlib import Path\n",
    "from langchain_community.document_loaders import PyPDFLoader\n",
    "pdf_path = Path.cwd().parents[3] / \"licitaciones/licitacion_aifa.pdf\"\n",
    "loader = PyPDFLoader(file_path=pdf_path)\n",
    "pages = []\n",
    "async for page in loader.alazy_load():\n",
    "    pages.append(page)\n"
   ]
  },
  {
   "cell_type": "code",
   "execution_count": 25,
   "metadata": {},
   "outputs": [
    {
     "name": "stdout",
     "output_type": "stream",
     "text": [
      "metadata: {'producer': 'Adobe Acrobat Pro DC 19 Paper Capture Plug-in', 'creator': 'PyPDF', 'creationdate': '2025-01-27T21:36:14-06:00', 'moddate': '2025-01-27T21:36:14-06:00', 'source': '/home/angel/Documentos/licitacion-python-venv/licitacion-app-python/licitaciones/licitacion_aifa.pdf', 'total_pages': 102, 'page': 15, 'page_label': '16'} content: LICITACIÓN PÚBLICA DE CARÁCTER NACIONAL ELECTRÓNICA. \n",
      " \n",
      "SERVICIO DE MANTENIMIENTO Y CONSERVACIÓN A EQUIPOS DE RESPALDO DE ENERGÍA UPS \n",
      "ESTÁTICOS. \n",
      " \n",
      " \n",
      "Hoja 16 de 102 \n",
      " \n",
      " \n",
      "Junta de aclaraciones. \n",
      "Día: 29 mes: Enero año: 2025. hora: 09:00 hrs. \n",
      "Medio: Compranet. \n",
      " \n",
      "Acto de presentación y apertura de p\n",
      "\n",
      "metadata: {'producer': 'Adobe Acrobat Pro DC 19 Paper Capture Plug-in', 'creator': 'PyPDF', 'creationdate': '2025-01-27T21:36:14-06:00', 'moddate': '2025-01-27T21:36:14-06:00', 'source': '/home/angel/Documentos/licitacion-python-venv/licitacion-app-python/licitaciones/licitacion_aifa.pdf', 'total_pages': 102, 'page': 2, 'page_label': '3'} content: LICITACIÓN PÚBLICA DE CARÁCTER NACIONAL ELECTRÓNICA. \n",
      " \n",
      "SERVICIO DE MANTENIMIENTO Y CONSERVACIÓN A EQUIPOS DE RESPALDO DE ENERGÍA UPS \n",
      "ESTÁTICOS. \n",
      " \n",
      " \n",
      "Hoja 3 de 102 \n",
      " \n",
      "Índice: \n",
      " \n",
      "C o n t e n i d o. Hoja. \n",
      " Glosario. 6 \n",
      "I.- Datos generales o de identificación. 8 \n",
      "1. Nombre de la convocante, área cont\n",
      "\n",
      "metadata: {'producer': 'Adobe Acrobat Pro DC 19 Paper Capture Plug-in', 'creator': 'PyPDF', 'creationdate': '2025-01-27T21:36:14-06:00', 'moddate': '2025-01-27T21:36:14-06:00', 'source': '/home/angel/Documentos/licitacion-python-venv/licitacion-app-python/licitaciones/licitacion_aifa.pdf', 'total_pages': 102, 'page': 14, 'page_label': '15'} content: LICITACIÓN PÚBLICA DE CARÁCTER NACIONAL ELECTRÓNICA. \n",
      " \n",
      "SERVICIO DE MANTENIMIENTO Y CONSERVACIÓN A EQUIPOS DE RESPALDO DE ENERGÍA UPS \n",
      "ESTÁTICOS. \n",
      " \n",
      " \n",
      "Hoja 15 de 102 \n",
      " \n",
      "representante legal, apoderado o persona facultada para ello en caso de ser persona \n",
      "moral. En su elaboración puede emplear el form\n",
      "\n"
     ]
    }
   ],
   "source": [
    "#Vector search over PDFs\n",
    "vector_store = InMemoryVectorStore.from_documents(pages,embeddings)\n",
    "docs = vector_store.similarity_search(\"cuáles son las fechas importantes de la licitación?\",k=3)\n",
    "\n",
    "for doc in docs:\n",
    "    print(f\"metadata: {doc.metadata} content: {doc.page_content[:300]}\\n\")\n"
   ]
  }
 ],
 "metadata": {
  "kernelspec": {
   "display_name": "licitacion-python-venv",
   "language": "python",
   "name": "python3"
  },
  "language_info": {
   "codemirror_mode": {
    "name": "ipython",
    "version": 3
   },
   "file_extension": ".py",
   "mimetype": "text/x-python",
   "name": "python",
   "nbconvert_exporter": "python",
   "pygments_lexer": "ipython3",
   "version": "3.10.12"
  }
 },
 "nbformat": 4,
 "nbformat_minor": 2
}
